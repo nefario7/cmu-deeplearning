{
  "cells": [
    {
      "cell_type": "markdown",
      "metadata": {
        "id": "9tkL4q_tU74H"
      },
      "source": [
        "## Homework 0 Part 2: Data Loaders\n",
        "\n",
        "In this assignment, you will be provided with data and an expected result. Your task is to fill out the starter code to obtain the expected result. Do not modify the data (X or Y), and do not modify the instantiation of the dataset or dataloader.\n",
        "\n",
        "All three versions -- easy difficulty, medium difficulty, and hard difficulty -- have the same solution code and the same examples. We recommend starting with the easy difficulty. Once you get the expected results with the easy difficulty, try again with the medium difficulty. If you want to challenge yourself, try again with the hard difficulty.\n",
        "\n",
        "CUDA is not required to complete most of this assignment, but it is required to execute the final command (unless you have a GPU in your local machine). Please use AWS to access CUDA available resources by following the AWS recitation0.\n",
        "\n",
        "Have fun!"
      ]
    },
    {
      "cell_type": "markdown",
      "metadata": {
        "id": "R8ns2XqMU74K"
      },
      "source": [
        "<hr style=\"border:2px solid gray\"> </hr>"
      ]
    },
    {
      "cell_type": "code",
      "execution_count": 32,
      "metadata": {
        "id": "Ukt_Oh4eU74L"
      },
      "outputs": [],
      "source": [
        "import numpy as np\n",
        "import torch"
      ]
    },
    {
      "cell_type": "markdown",
      "metadata": {
        "id": "zSJABKSHU74M"
      },
      "source": [
        "<hr style=\"border:2px solid gray\"> </hr>"
      ]
    },
    {
      "cell_type": "markdown",
      "metadata": {
        "id": "KqJ9JY6YU74N"
      },
      "source": [
        "### Exercise 1"
      ]
    },
    {
      "cell_type": "code",
      "execution_count": 33,
      "metadata": {
        "id": "Drf_CiUQU74N"
      },
      "outputs": [],
      "source": [
        "X = np.array([2,  3,  4,  5,  6,  7,  8,  9])"
      ]
    },
    {
      "cell_type": "code",
      "execution_count": 34,
      "metadata": {
        "id": "YQTZBOMJU74N"
      },
      "outputs": [],
      "source": [
        "class ExampleDataset1(torch.utils.data.Dataset):\n",
        "    \n",
        "    def __init__(self, X):\n",
        "        \n",
        "        ### Assign data to self (1 line)\n",
        "        self.X = X\n",
        "        \n",
        "        ### Assign length to self (1 line)\n",
        "        self.length = len(X)\n",
        "        \n",
        "    def __len__(self):\n",
        "        \n",
        "        ### Return length (1 line)\n",
        "        return self.length\n",
        "    \n",
        "    def __getitem__(self, i):\n",
        "        \n",
        "        ### Return data at index i (1 line)\n",
        "        return self.X[i]\n",
        "    \n",
        "    def collate_fn(batch):\n",
        "        \n",
        "        ### Convert batch to tensor (1 line)\n",
        "        batch_x = torch.as_tensor(batch)\n",
        "        \n",
        "        ### Return batched data and labels (1 line)\n",
        "        return batch_x"
      ]
    },
    {
      "cell_type": "code",
      "execution_count": 35,
      "metadata": {
        "colab": {
          "base_uri": "https://localhost:8080/"
        },
        "id": "ys2qoIKoU74O",
        "outputId": "a8c3767c-029a-442d-bc59-11dd9a1f4f0e"
      },
      "outputs": [
        {
          "output_type": "stream",
          "name": "stdout",
          "text": [
            "Batch 0 :\n",
            " tensor([2, 3]) \n",
            "\n",
            "Batch 1 :\n",
            " tensor([4, 5]) \n",
            "\n",
            "Batch 2 :\n",
            " tensor([6, 7]) \n",
            "\n",
            "Batch 3 :\n",
            " tensor([8, 9]) \n",
            "\n"
          ]
        }
      ],
      "source": [
        "dataset1 = ExampleDataset1(X)\n",
        "\n",
        "dataloader1 = torch.utils.data.DataLoader(dataset1,\n",
        "                                          batch_size=2, \n",
        "                                          shuffle=False,\n",
        "                                          collate_fn=ExampleDataset1.collate_fn)\n",
        "\n",
        "for i, batch in enumerate(dataloader1):\n",
        "    print(\"Batch\", i, \":\\n\", batch, \"\\n\")"
      ]
    },
    {
      "cell_type": "markdown",
      "metadata": {
        "id": "e965fAghU74O"
      },
      "source": [
        "---\n",
        "#### Expected Output:\n",
        "```\n",
        "Batch 0 :\n",
        " tensor([2, 3]) \n",
        "\n",
        "Batch 1 :\n",
        " tensor([4, 5]) \n",
        "\n",
        "Batch 2 :\n",
        " tensor([6, 7]) \n",
        "\n",
        "Batch 3 :\n",
        " tensor([8, 9]) \n",
        "```\n",
        "---"
      ]
    },
    {
      "cell_type": "markdown",
      "metadata": {
        "id": "4bWRsoApU74P"
      },
      "source": [
        "<hr style=\"border:2px solid gray\"> </hr>"
      ]
    },
    {
      "cell_type": "markdown",
      "metadata": {
        "id": "B7kNcNtDU74P"
      },
      "source": [
        "### Exercise 2"
      ]
    },
    {
      "cell_type": "code",
      "execution_count": 36,
      "metadata": {
        "id": "pUL9v9q4U74Q"
      },
      "outputs": [],
      "source": [
        "X = np.array([2,  3,  4,  5,  6,  7,  8,  9])\n",
        "Y = np.array([4,  9, 16, 25, 36, 49, 64, 81])"
      ]
    },
    {
      "cell_type": "code",
      "execution_count": 37,
      "metadata": {
        "id": "iljPpg1iU74Q"
      },
      "outputs": [],
      "source": [
        "class ExampleDataset2(torch.utils.data.Dataset):\n",
        "    \n",
        "    def __init__(self, X, Y):\n",
        "        \n",
        "        ### Assign data and labels to self (1-2 lines)\n",
        "        self.X = X\n",
        "        self.Y = Y\n",
        "        \n",
        "        ### Assert data and labels have the same length (1 line)\n",
        "        assert(len(X) == len(Y))\n",
        "        \n",
        "        ### Assign length to self (1 line)\n",
        "        self.length = len(X)\n",
        "        \n",
        "    def __len__(self):\n",
        "        \n",
        "        ### Return length (1 line)\n",
        "        return self.length\n",
        "    \n",
        "    def __getitem__(self, i):\n",
        "        \n",
        "        ### Return data and label at index (1 line)\n",
        "        return self.X[i], self.Y[i]\n",
        "    \n",
        "    def collate_fn(batch):\n",
        "        \n",
        "        ### Select all data from batch (1 line)\n",
        "        batch_x = [x for x,y in batch]\n",
        "        \n",
        "        ### Select all labels from batch (1 line)\n",
        "        batch_y = [y for x, y in batch]\n",
        "        \n",
        "        ### Convert batched data and labels to tensors (2 lines)\n",
        "        batch_x = torch.as_tensor(batch_x)\n",
        "        batch_y = torch.as_tensor(batch_y)\n",
        "        \n",
        "        ### Return batched data and labels (1 line)\n",
        "        return batch_x, batch_y"
      ]
    },
    {
      "cell_type": "code",
      "execution_count": 38,
      "metadata": {
        "colab": {
          "base_uri": "https://localhost:8080/"
        },
        "id": "yS_p3-ILU74R",
        "outputId": "70862ddc-de66-4ece-b75e-8c51fde3ea0c"
      },
      "outputs": [
        {
          "output_type": "stream",
          "name": "stdout",
          "text": [
            "Batch 0 :\n",
            " (tensor([2, 3]), tensor([4, 9])) \n",
            "\n",
            "Batch 1 :\n",
            " (tensor([4, 5]), tensor([16, 25])) \n",
            "\n",
            "Batch 2 :\n",
            " (tensor([6, 7]), tensor([36, 49])) \n",
            "\n",
            "Batch 3 :\n",
            " (tensor([8, 9]), tensor([64, 81])) \n",
            "\n"
          ]
        }
      ],
      "source": [
        "dataset2 = ExampleDataset2(X, Y)\n",
        "\n",
        "dataloader2 = torch.utils.data.DataLoader(dataset2,\n",
        "                                          batch_size=2, \n",
        "                                          shuffle=False,\n",
        "                                          collate_fn=ExampleDataset2.collate_fn)\n",
        "\n",
        "for i, batch in enumerate(dataloader2):\n",
        "    print(\"Batch\", i, \":\\n\", batch, \"\\n\")"
      ]
    },
    {
      "cell_type": "markdown",
      "metadata": {
        "id": "89rtBa1UU74R"
      },
      "source": [
        "---\n",
        "#### Expected Output:\n",
        "\n",
        "```\n",
        "Batch 0 :\n",
        " (tensor([2, 3]), tensor([4, 9])) \n",
        "\n",
        "Batch 1 :\n",
        " (tensor([4, 5]), tensor([16, 25])) \n",
        "\n",
        "Batch 2 :\n",
        " (tensor([6, 7]), tensor([36, 49])) \n",
        "\n",
        "Batch 3 :\n",
        " (tensor([8, 9]), tensor([64, 81])) \n",
        "\n",
        "```\n",
        "---"
      ]
    },
    {
      "cell_type": "markdown",
      "metadata": {
        "id": "rZ8rYZ1GU74R"
      },
      "source": [
        "<hr style=\"border:2px solid gray\"> </hr>"
      ]
    },
    {
      "cell_type": "markdown",
      "metadata": {
        "id": "winbjurLU74R"
      },
      "source": [
        "### Example 3"
      ]
    },
    {
      "cell_type": "code",
      "execution_count": 39,
      "metadata": {
        "id": "TVd_sKRfU74R"
      },
      "outputs": [],
      "source": [
        "X = np.array([ np.array([[ 2,  3,  4],\n",
        "                         [ 4,  6,  8],\n",
        "                         [ 6,  9, 12],\n",
        "                         [ 8, 12, 16]]),\n",
        "               np.array([[10, 15, 20],\n",
        "                         [12, 18, 24]]) ], dtype=object)"
      ]
    },
    {
      "cell_type": "code",
      "execution_count": 40,
      "metadata": {
        "id": "7Q-plEBGU74S"
      },
      "outputs": [],
      "source": [
        "class ExampleDataset3(torch.utils.data.Dataset):\n",
        "    \n",
        "    def __init__(self, X):\n",
        "        \n",
        "        ### Assign data to self (1 line)\n",
        "        self.X = X\n",
        "        \n",
        "        ### Define index mapping (4-6 lines)\n",
        "        index_map_X = []\n",
        "        for i, x in enumerate(X):\n",
        "            for j, xx in enumerate(x):\n",
        "                index_pair_X = (i, j)\n",
        "                index_map_X.append(index_pair_X)\n",
        "        \n",
        "        ### Assign index mapping to self (0-1 line)\n",
        "        self.index_map = index_map_X\n",
        "        \n",
        "        ### Assign length to self (1 line)\n",
        "        self.length = len(self.index_map)\n",
        "        \n",
        "    def __len__(self):\n",
        "        \n",
        "        ### Return length (1 line)\n",
        "        return self.length\n",
        "    \n",
        "    def __getitem__(self, index):\n",
        "        ### Get index pair from index map (1-2 lines)\n",
        "        i, j = self.index_map[index]\n",
        "        \n",
        "        ### Get data at index pair (1 line)\n",
        "        xx = self.X[i][j,:]\n",
        "        \n",
        "        ### Return data (1 line)\n",
        "        return xx\n",
        "    \n",
        "    def collate_fn(batch):\n",
        "        \n",
        "        ### Convert batch to tensor (1 line)\n",
        "        batch_x = torch.as_tensor(batch)\n",
        "        \n",
        "        ### Return batched data (1 line)\n",
        "        return batch_x"
      ]
    },
    {
      "cell_type": "code",
      "execution_count": 41,
      "metadata": {
        "colab": {
          "base_uri": "https://localhost:8080/"
        },
        "id": "p2hNmMOFU74S",
        "outputId": "748a005a-01ed-4649-f4a8-9988b50cb1b6"
      },
      "outputs": [
        {
          "output_type": "stream",
          "name": "stdout",
          "text": [
            "Batch 0 :\n",
            " tensor([[ 2,  3,  4],\n",
            "        [ 4,  6,  8],\n",
            "        [ 6,  9, 12]]) \n",
            "\n",
            "Batch 1 :\n",
            " tensor([[ 8, 12, 16],\n",
            "        [10, 15, 20],\n",
            "        [12, 18, 24]]) \n",
            "\n"
          ]
        }
      ],
      "source": [
        "dataset3 = ExampleDataset3(X)\n",
        "\n",
        "dataloader3 = torch.utils.data.DataLoader(dataset3,\n",
        "                                          batch_size=3, \n",
        "                                          shuffle=False,\n",
        "                                          collate_fn=ExampleDataset3.collate_fn)\n",
        "\n",
        "for i, batch in enumerate(dataloader3):\n",
        "    print(\"Batch\", i, \":\\n\", batch, \"\\n\")"
      ]
    },
    {
      "cell_type": "markdown",
      "metadata": {
        "id": "HtUz83gYU74T"
      },
      "source": [
        "---\n",
        "#### Expected Output\n",
        "\n",
        "```\n",
        "Batch 0 :\n",
        " tensor([[ 2,  3,  4],\n",
        "        [ 4,  6,  8],\n",
        "        [ 6,  9, 12]]) \n",
        "\n",
        "Batch 1 :\n",
        " tensor([[ 8, 12, 16],\n",
        "        [10, 15, 20],\n",
        "        [12, 18, 24]]) \n",
        "```\n",
        "---"
      ]
    },
    {
      "cell_type": "markdown",
      "metadata": {
        "id": "NYBzcOKFU74T"
      },
      "source": [
        "<hr style=\"border:2px solid gray\"> </hr>"
      ]
    },
    {
      "cell_type": "markdown",
      "metadata": {
        "id": "de8TOjexU74T"
      },
      "source": [
        "### Exercise 4"
      ]
    },
    {
      "cell_type": "code",
      "execution_count": 42,
      "metadata": {
        "id": "XnZC-RfjU74T"
      },
      "outputs": [],
      "source": [
        "X = np.array([ np.array([[ 2,  3,  4],\n",
        "                         [ 4,  6,  8],\n",
        "                         [ 6,  9, 12],\n",
        "                         [ 8, 12, 16]]),\n",
        "               np.array([[10, 15, 20],\n",
        "                         [12, 18, 24]]) ], dtype=object)\n",
        "\n",
        "Y = np.array([ np.array([1, 2, 3, 4]), \n",
        "               np.array([5, 6])], dtype=object)"
      ]
    },
    {
      "cell_type": "code",
      "execution_count": 43,
      "metadata": {
        "id": "z3lW-0LmU74T"
      },
      "outputs": [],
      "source": [
        "class ExampleDataset4(torch.utils.data.Dataset):\n",
        "    \n",
        "    def __init__(self, X, Y):\n",
        "        \n",
        "        ### Assign data and label to self (1-2 lines)\n",
        "        self.X = X\n",
        "        self.Y = Y\n",
        "        \n",
        "        ### Define data index mapping (4-6 lines)\n",
        "        index_map_X = []\n",
        "        \n",
        "        for i, x in enumerate(X):\n",
        "            for j, xx in enumerate(x):\n",
        "                index_pair_X = (i, j)\n",
        "                index_map_X.append(index_pair_X)\n",
        "                \n",
        "        ### Define label index mapping (4-6 lines)\n",
        "        index_map_Y = []\n",
        "        for i, y in enumerate(Y):\n",
        "            for j, yy in enumerate(y):\n",
        "                index_pair_Y = (i, j)\n",
        "                index_map_Y.append(index_pair_Y)\n",
        "            \n",
        "        ### Assert the data index mapping and label index mapping are the same (1 line)\n",
        "        assert(set(index_map_X) == set(index_map_Y))\n",
        "        \n",
        "        ### Assign data index mapping to self (1 line)\n",
        "        self.index_map = index_map_X\n",
        "        \n",
        "        ### Assign length to self (1 line)\n",
        "        self.length = len(self.index_map)\n",
        "        \n",
        "    def __len__(self):\n",
        "\n",
        "        ### Return length (1 line)\n",
        "        return self.length\n",
        "    \n",
        "    def __getitem__(self, index):\n",
        "        \n",
        "        ### Get index pair from index map (1-2 lines)\n",
        "        i, j = self.index_map[index]\n",
        "        \n",
        "        ### Get data at index pair (1 line)\n",
        "        xx = self.X[i][j,:]\n",
        "        \n",
        "        ### Get label at index pair (1 line)\n",
        "        yy = self.Y[i][j]\n",
        "        \n",
        "        ### Return data at index pair and label at index pair (1 line)\n",
        "        return xx, yy\n",
        "    \n",
        "    def collate_fn(batch):\n",
        "        \n",
        "        ### Select all data from batch (1 line)\n",
        "        batch_x = [a for a, b in batch]\n",
        "        \n",
        "        ### Select all labels from batch (1 line)\n",
        "        batch_y = [b for a,b in batch]\n",
        "        \n",
        "        ### Convert batched data and labels to tensors (2 lines)\n",
        "        batch_x = torch.as_tensor(batch_x)\n",
        "        batch_y = torch.as_tensor(batch_y)\n",
        "        \n",
        "        ### Return batched data and labels (1 line)\n",
        "        return batch_x, batch_y"
      ]
    },
    {
      "cell_type": "code",
      "execution_count": 44,
      "metadata": {
        "colab": {
          "base_uri": "https://localhost:8080/"
        },
        "id": "9LNmNCmRU74U",
        "outputId": "0537f75f-1e02-4978-ac46-1c0ee1ef06a2"
      },
      "outputs": [
        {
          "output_type": "stream",
          "name": "stdout",
          "text": [
            "Batch 0 :\n",
            " (tensor([[ 2,  3,  4],\n",
            "        [ 4,  6,  8],\n",
            "        [ 6,  9, 12]]), tensor([1, 2, 3])) \n",
            "\n",
            "Batch 1 :\n",
            " (tensor([[ 8, 12, 16],\n",
            "        [10, 15, 20],\n",
            "        [12, 18, 24]]), tensor([4, 5, 6])) \n",
            "\n"
          ]
        }
      ],
      "source": [
        "dataset4 = ExampleDataset4(X, Y)\n",
        "\n",
        "dataloader4 = torch.utils.data.DataLoader(dataset4,\n",
        "                                          batch_size=3, \n",
        "                                          shuffle=False,\n",
        "                                          collate_fn=ExampleDataset4.collate_fn)\n",
        "\n",
        "\n",
        "for i, batch in enumerate(dataloader4):\n",
        "    print(\"Batch\", i, \":\\n\", batch, \"\\n\")"
      ]
    },
    {
      "cell_type": "markdown",
      "metadata": {
        "id": "WEQzokNzU74U"
      },
      "source": [
        "---\n",
        "#### Expected Output:\n",
        "\n",
        "```\n",
        "Batch 0 :\n",
        " (tensor([[ 2,  3,  4],\n",
        "        [ 4,  6,  8],\n",
        "        [ 6,  9, 12]]), tensor([1, 2, 3])) \n",
        "\n",
        "Batch 1 :\n",
        " (tensor([[ 8, 12, 16],\n",
        "        [10, 15, 20],\n",
        "        [12, 18, 24]]), tensor([4, 5, 6]))\n",
        "```\n",
        "---"
      ]
    },
    {
      "cell_type": "markdown",
      "metadata": {
        "id": "dJ8vS8aaU74U"
      },
      "source": [
        "<hr style=\"border:2px solid gray\"> </hr>"
      ]
    },
    {
      "cell_type": "markdown",
      "metadata": {
        "id": "obNiX3OwU74U"
      },
      "source": [
        "### Exercise 5"
      ]
    },
    {
      "cell_type": "code",
      "execution_count": 45,
      "metadata": {
        "id": "q3q9fYzaU74U"
      },
      "outputs": [],
      "source": [
        "X = np.array([ np.array([[ 2,  3,  4],\n",
        "                         [ 4,  6,  8],\n",
        "                         [ 6,  9, 12],\n",
        "                         [ 8, 12, 16]]),\n",
        "               np.array([[10, 15, 20],\n",
        "                         [12, 18, 24]]) ], dtype=object)"
      ]
    },
    {
      "cell_type": "code",
      "execution_count": 46,
      "metadata": {
        "id": "a4dEz3GLU74V"
      },
      "outputs": [],
      "source": [
        "class ExampleDataset5(torch.utils.data.Dataset):\n",
        "    \n",
        "    def __init__(self, X, offset=1, context=1):\n",
        "        \n",
        "        ### Assign data to self (1 line)\n",
        "        self.X = X\n",
        "        \n",
        "        ### Define data index mapping (4-6 lines)\n",
        "        x_mapping = []\n",
        "        \n",
        "        for i, x in enumerate(X):\n",
        "            for j, xx in enumerate(x):\n",
        "                index_pair = (i, j)\n",
        "                x_mapping.append(index_pair)\n",
        "                \n",
        "        ### Assign data index mapping to self (1 line)\n",
        "        self.x_index_mapping = x_mapping\n",
        "        \n",
        "        ### Assign length to self (1 line)\n",
        "        self.length = len(self.x_index_mapping)\n",
        "        \n",
        "        ### Add context and offset to self (1-2 line)\n",
        "        self.context = context\n",
        "        self.offset = offset\n",
        "        \n",
        "        ### Zero pad data as-needed for context size = 1 (1-2 lines)\n",
        "        for i, x in enumerate(self.X):\n",
        "            self.X[i] = np.pad(x, ((1, 1), (0, 0)), 'constant', constant_values=0)\n",
        "        \n",
        "    def __len__(self):\n",
        "        \n",
        "        ### Return length (1 line)\n",
        "        return self.length\n",
        "    \n",
        "    def __getitem__(self, index):\n",
        "        \n",
        "        ### Get index pair from index map (1-2 lines)\n",
        "        i, j = self.x_index_mapping[index]\n",
        "        \n",
        "        ### Calculate starting timestep using offset and context (1 line)\n",
        "        start_j = j + self.offset - self.context\n",
        "        \n",
        "        ### Calculate ending timestep using offset and context (1 line)\n",
        "        end_j = j + self.offset + self.context + 1\n",
        "        \n",
        "        ### Get data at index pair with context (1 line)\n",
        "        xx = self.X[i][start_j:end_j,:]\n",
        "        \n",
        "        ### Return data (1 line)\n",
        "        return xx\n",
        "    \n",
        "    def collate_fn(batch):\n",
        "        \n",
        "        ### Convert batch to tensor (1 line)\n",
        "        x_batch = torch.as_tensor(batch)\n",
        "        \n",
        "        ### Return batched data and labels (1 line)\n",
        "        return x_batch"
      ]
    },
    {
      "cell_type": "code",
      "execution_count": 47,
      "metadata": {
        "colab": {
          "base_uri": "https://localhost:8080/"
        },
        "id": "D8SzHO7eU74V",
        "outputId": "642360c4-cb25-415a-d06e-21415240a25f"
      },
      "outputs": [
        {
          "output_type": "stream",
          "name": "stdout",
          "text": [
            "Batch 0 :\n",
            " tensor([[[ 0,  0,  0],\n",
            "         [ 2,  3,  4],\n",
            "         [ 4,  6,  8]],\n",
            "\n",
            "        [[ 2,  3,  4],\n",
            "         [ 4,  6,  8],\n",
            "         [ 6,  9, 12]]]) \n",
            "\n",
            "Batch 1 :\n",
            " tensor([[[ 4,  6,  8],\n",
            "         [ 6,  9, 12],\n",
            "         [ 8, 12, 16]],\n",
            "\n",
            "        [[ 6,  9, 12],\n",
            "         [ 8, 12, 16],\n",
            "         [ 0,  0,  0]]]) \n",
            "\n",
            "Batch 2 :\n",
            " tensor([[[ 0,  0,  0],\n",
            "         [10, 15, 20],\n",
            "         [12, 18, 24]],\n",
            "\n",
            "        [[10, 15, 20],\n",
            "         [12, 18, 24],\n",
            "         [ 0,  0,  0]]]) \n",
            "\n"
          ]
        }
      ],
      "source": [
        "dataset5 = ExampleDataset5(X)\n",
        "\n",
        "dataloader5 = torch.utils.data.DataLoader(dataset5,\n",
        "                                         batch_size=2, \n",
        "                                         shuffle=False,\n",
        "                                         collate_fn=ExampleDataset5.collate_fn)\n",
        "\n",
        "for i, batch in enumerate(dataloader5):\n",
        "    print(\"Batch\", i, \":\\n\", batch, \"\\n\")"
      ]
    },
    {
      "cell_type": "markdown",
      "metadata": {
        "id": "Cy0sgit6U74V"
      },
      "source": [
        "---\n",
        "#### Expected Output:\n",
        "\n",
        "```\n",
        "Batch 0 :\n",
        " tensor([[[ 0,  0,  0],\n",
        "         [ 2,  3,  4],\n",
        "         [ 4,  6,  8]],\n",
        "\n",
        "        [[ 2,  3,  4],\n",
        "         [ 4,  6,  8],\n",
        "         [ 6,  9, 12]]]) \n",
        "\n",
        "Batch 1 :\n",
        " tensor([[[ 4,  6,  8],\n",
        "         [ 6,  9, 12],\n",
        "         [ 8, 12, 16]],\n",
        "\n",
        "        [[ 6,  9, 12],\n",
        "         [ 8, 12, 16],\n",
        "         [ 0,  0,  0]]]) \n",
        "\n",
        "Batch 2 :\n",
        " tensor([[[ 0,  0,  0],\n",
        "         [10, 15, 20],\n",
        "         [12, 18, 24]],\n",
        "\n",
        "        [[10, 15, 20],\n",
        "         [12, 18, 24],\n",
        "         [ 0,  0,  0]]]) \n",
        "```\n",
        "---"
      ]
    },
    {
      "cell_type": "markdown",
      "metadata": {
        "id": "3lbQ3sPLU74V"
      },
      "source": [
        "<hr style=\"border:2px solid gray\"> </hr>"
      ]
    },
    {
      "cell_type": "markdown",
      "metadata": {
        "id": "G57FwPglU74W"
      },
      "source": [
        "### Exercise 6"
      ]
    },
    {
      "cell_type": "code",
      "execution_count": 48,
      "metadata": {
        "id": "-z1Q6_0oU74W"
      },
      "outputs": [],
      "source": [
        "X = np.array([ np.array([[ 2,  3,  4],\n",
        "                         [ 4,  6,  8],\n",
        "                         [ 6,  9, 12],\n",
        "                         [ 8, 12, 16]]),\n",
        "               np.array([[10, 15, 20],\n",
        "                         [12, 18, 24]]) ], dtype=object)\n",
        "\n",
        "Y = np.array([ np.array([1, 2, 3, 4]), \n",
        "               np.array([5, 6])], dtype=object)"
      ]
    },
    {
      "cell_type": "code",
      "execution_count": 49,
      "metadata": {
        "id": "MiDBb3FiU74W"
      },
      "outputs": [],
      "source": [
        "class ExampleDataset6(torch.utils.data.Dataset):\n",
        "    \n",
        "    def __init__(self, X, Y, offset=1, context=1):\n",
        "        \n",
        "        ### Add data and label to self (1-2 lines)\n",
        "        self.X = X\n",
        "        self.Y = Y\n",
        "        \n",
        "        ### Define data index mapping (4-6 lines)\n",
        "        x_mapping = []\n",
        "        for i, x in enumerate(X):\n",
        "            for j, xx in enumerate(x):\n",
        "                index_pair = (i, j)\n",
        "                x_mapping.append(index_pair)\n",
        "                \n",
        "        ### Define label index mapping (4-6 lines)\n",
        "        y_mapping = []\n",
        "        for i, y in enumerate(Y):\n",
        "            for j, yy in enumerate(y):\n",
        "                index_pair_y= (i, j)\n",
        "                y_mapping.append(index_pair_y)\n",
        "\n",
        "        ### Assert the data index mapping and label index mapping are the same (1 line)\n",
        "        assert(set(x_mapping) == set(y_mapping))\n",
        "        \n",
        "        ### Assign data index mapping to self (1 line)\n",
        "        self.index_mapping = x_mapping\n",
        "        \n",
        "        ### Add length to self (1 line)\n",
        "        self.length = len(x_mapping)\n",
        "        \n",
        "        ### Add context and offset to self (1-2 line)\n",
        "        self.context = context\n",
        "        self.offset = offset\n",
        "        \n",
        "        ### Zero pad data as-needed for context size = 1 (1-2 lines)\n",
        "        for i, x in enumerate(X):\n",
        "            self.X[i] = np.pad(x, ((1,1), (0, 0)), \n",
        "                                        'constant', \n",
        "                                        constant_values=0)\n",
        "        \n",
        "    def __len__(self):\n",
        "        \n",
        "        ### Return length (1 line)\n",
        "        return self.length\n",
        "    \n",
        "    def __getitem__(self, index):\n",
        "        \n",
        "        ### Get index pair from index map (1-2 lines)\n",
        "        i, j = self.index_mapping[index]\n",
        "        \n",
        "        ### Calculate starting timestep using offset and context (1 line)\n",
        "        start = j + self.offset - self.context\n",
        "        \n",
        "        ## Calculate ending timestep using offset and context (1 line)\n",
        "        end = j + self.offset + self.context\n",
        "        \n",
        "        ### Get data at index pair with context (1 line)\n",
        "        data = self.X[i][start:end+1, :]\n",
        "        \n",
        "        ### Get label at index pair (1 line)\n",
        "        label = self.Y[i][j]\n",
        "        \n",
        "        ### Return data at index pair with context and label at index pair (1 line)\n",
        "        return data, label\n",
        "    \n",
        "    def collate_fn(batch):\n",
        "        \n",
        "        ### Select all data from batch (1 line)\n",
        "        batch_x = [x for x, y in batch]\n",
        "        \n",
        "        ### Select all labels from batch (1 line)\n",
        "        batch_y = [y for x, y in batch]\n",
        "        \n",
        "        ### Convert batched data and labels to tensors (2 lines)\n",
        "        batch_x = torch.as_tensor(batch_x)\n",
        "        batch_y = torch.as_tensor(batch_y)\n",
        "        \n",
        "        ### Return batched data and labels (1 line)\n",
        "        return batch_x, batch_y"
      ]
    },
    {
      "cell_type": "code",
      "execution_count": 50,
      "metadata": {
        "colab": {
          "base_uri": "https://localhost:8080/"
        },
        "id": "roePVW_WU74W",
        "outputId": "62d0ca7f-04b8-4976-9c8e-a67e92bb876e"
      },
      "outputs": [
        {
          "output_type": "stream",
          "name": "stdout",
          "text": [
            "Batch 0 :\n",
            " (tensor([[[ 0,  0,  0],\n",
            "         [ 2,  3,  4],\n",
            "         [ 4,  6,  8]],\n",
            "\n",
            "        [[ 2,  3,  4],\n",
            "         [ 4,  6,  8],\n",
            "         [ 6,  9, 12]]]), tensor([1, 2])) \n",
            "\n",
            "Batch 1 :\n",
            " (tensor([[[ 4,  6,  8],\n",
            "         [ 6,  9, 12],\n",
            "         [ 8, 12, 16]],\n",
            "\n",
            "        [[ 6,  9, 12],\n",
            "         [ 8, 12, 16],\n",
            "         [ 0,  0,  0]]]), tensor([3, 4])) \n",
            "\n",
            "Batch 2 :\n",
            " (tensor([[[ 0,  0,  0],\n",
            "         [10, 15, 20],\n",
            "         [12, 18, 24]],\n",
            "\n",
            "        [[10, 15, 20],\n",
            "         [12, 18, 24],\n",
            "         [ 0,  0,  0]]]), tensor([5, 6])) \n",
            "\n"
          ]
        }
      ],
      "source": [
        "dataset6 = ExampleDataset6(X, Y)\n",
        "\n",
        "dataloader6 = torch.utils.data.DataLoader(dataset6,\n",
        "                                         batch_size=2, \n",
        "                                         shuffle=False,\n",
        "                                         collate_fn=ExampleDataset6.collate_fn)\n",
        "\n",
        "for i, batch in enumerate(dataloader6):\n",
        "    print(\"Batch\", i, \":\\n\", batch, \"\\n\")"
      ]
    },
    {
      "cell_type": "markdown",
      "metadata": {
        "id": "jga1wD1nU74X"
      },
      "source": [
        "---\n",
        "#### Expected Output:\n",
        "```\n",
        "Batch 0 :\n",
        " (tensor([[[ 0,  0,  0],\n",
        "         [ 2,  3,  4],\n",
        "         [ 4,  6,  8]],\n",
        "\n",
        "        [[ 2,  3,  4],\n",
        "         [ 4,  6,  8],\n",
        "         [ 6,  9, 12]]]), tensor([1, 2])) \n",
        "\n",
        "Batch 1 :\n",
        " (tensor([[[ 4,  6,  8],\n",
        "         [ 6,  9, 12],\n",
        "         [ 8, 12, 16]],\n",
        "\n",
        "        [[ 6,  9, 12],\n",
        "         [ 8, 12, 16],\n",
        "         [ 0,  0,  0]]]), tensor([3, 4])) \n",
        "\n",
        "Batch 2 :\n",
        " (tensor([[[ 0,  0,  0],\n",
        "         [10, 15, 20],\n",
        "         [12, 18, 24]],\n",
        "\n",
        "        [[10, 15, 20],\n",
        "         [12, 18, 24],\n",
        "         [ 0,  0,  0]]]), tensor([5, 6])) \n",
        "```\n",
        "---"
      ]
    },
    {
      "cell_type": "markdown",
      "metadata": {
        "id": "-8W90VSAU74X"
      },
      "source": [
        "### Exercise 7"
      ]
    },
    {
      "cell_type": "code",
      "execution_count": 51,
      "metadata": {
        "colab": {
          "base_uri": "https://localhost:8080/"
        },
        "id": "kxflfydOU74X",
        "outputId": "8a97fe40-86f0-4460-a275-80e4973f4c73"
      },
      "outputs": [
        {
          "output_type": "stream",
          "name": "stdout",
          "text": [
            "Wed Jan 19 05:27:17 2022       \n",
            "+-----------------------------------------------------------------------------+\n",
            "| NVIDIA-SMI 495.46       Driver Version: 460.32.03    CUDA Version: 11.2     |\n",
            "|-------------------------------+----------------------+----------------------+\n",
            "| GPU  Name        Persistence-M| Bus-Id        Disp.A | Volatile Uncorr. ECC |\n",
            "| Fan  Temp  Perf  Pwr:Usage/Cap|         Memory-Usage | GPU-Util  Compute M. |\n",
            "|                               |                      |               MIG M. |\n",
            "|===============================+======================+======================|\n",
            "|   0  Tesla T4            Off  | 00000000:00:04.0 Off |                    0 |\n",
            "| N/A   31C    P8     9W /  70W |      0MiB / 15109MiB |      0%      Default |\n",
            "|                               |                      |                  N/A |\n",
            "+-------------------------------+----------------------+----------------------+\n",
            "                                                                               \n",
            "+-----------------------------------------------------------------------------+\n",
            "| Processes:                                                                  |\n",
            "|  GPU   GI   CI        PID   Type   Process name                  GPU Memory |\n",
            "|        ID   ID                                                   Usage      |\n",
            "|=============================================================================|\n",
            "|  No running processes found                                                 |\n",
            "+-----------------------------------------------------------------------------+\n"
          ]
        }
      ],
      "source": [
        "!nvidia-smi"
      ]
    },
    {
      "cell_type": "markdown",
      "metadata": {
        "id": "Kxd0b9miU74X"
      },
      "source": [
        "---\n",
        "#### Expected Output (your result should look similar, but not exactly the same):\n",
        "```\n",
        "+-----------------------------------------------------------------------------+\n",
        "| NVIDIA-SMI 460.27.04    Driver Version: 460.27.04    CUDA Version: 11.2     |\n",
        "|-------------------------------+----------------------+----------------------+\n",
        "| GPU  Name        Persistence-M| Bus-Id        Disp.A | Volatile Uncorr. ECC |\n",
        "| Fan  Temp  Perf  Pwr:Usage/Cap|         Memory-Usage | GPU-Util  Compute M. |\n",
        "|                               |                      |               MIG M. |\n",
        "|===============================+======================+======================|\n",
        "|   0  GeForce RTX 207...  Off  | 00000000:01:00.0 Off |                  N/A |\n",
        "| N/A   40C    P8     9W /  N/A |      5MiB /  7982MiB |      0%      Default |\n",
        "|                               |                      |                  N/A |\n",
        "+-------------------------------+----------------------+----------------------+\n",
        "                                                                               \n",
        "+-----------------------------------------------------------------------------+\n",
        "| Processes:                                                                  |\n",
        "|  GPU   GI   CI        PID   Type   Process name                  GPU Memory |\n",
        "|        ID   ID                                                   Usage      |\n",
        "|=============================================================================|\n",
        "|    0   N/A  N/A       970      G   /usr/lib/xorg/Xorg                  4MiB |\n",
        "+-----------------------------------------------------------------------------+\n",
        "```\n",
        "---"
      ]
    }
  ],
  "metadata": {
    "kernelspec": {
      "display_name": "Python 3 (ipykernel)",
      "language": "python",
      "name": "python3"
    },
    "language_info": {
      "codemirror_mode": {
        "name": "ipython",
        "version": 3
      },
      "file_extension": ".py",
      "mimetype": "text/x-python",
      "name": "python",
      "nbconvert_exporter": "python",
      "pygments_lexer": "ipython3",
      "version": "3.7.7"
    },
    "colab": {
      "name": "hw0p2-easy-difficulty.ipynb",
      "provenance": []
    },
    "accelerator": "GPU"
  },
  "nbformat": 4,
  "nbformat_minor": 0
}